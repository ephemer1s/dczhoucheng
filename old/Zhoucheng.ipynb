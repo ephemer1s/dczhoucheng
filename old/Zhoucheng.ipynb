{
 "cells": [
  {
   "cell_type": "code",
   "execution_count": 2,
   "metadata": {},
   "outputs": [],
   "source": [
    "import numpy as np\n",
    "import torch\n",
    "from torch import nn\n",
    "from torch.autograd import Variable\n",
    "from torch.utils.data import DataLoader, TensorDataset\n",
    "from scipy import stats\n",
    "import matplotlib.pyplot as plt\n",
    "from scipy.fftpack import fft"
   ]
  },
  {
   "cell_type": "code",
   "execution_count": 3,
   "metadata": {},
   "outputs": [],
   "source": [
    "def featureparam(a):\n",
    "    \"\"\"\n",
    "    根据信号特征值处理数据\n",
    "    :param a: numpy.ndarray\n",
    "    :return: torch.tensor\n",
    "    \"\"\"\n",
    "    x_avg = np.mean(a, axis=1, keepdims=True)  # 算术均值\n",
    "    x_std = np.std(a, axis=1, ddof=1, keepdims=True)  # 标准差\n",
    "    x_var = np.var(a, axis=1, ddof=1, keepdims=True)  # 方差\n",
    "    x_ptp = np.ptp(a, axis=1, keepdims=True)  # 峰峰值\n",
    "    x_rms = np.sqrt(np.mean(a ** 2, axis=1, keepdims=True))  # 有效值\n",
    "    x_skw = stats.skew(a, axis=1).reshape(a.shape[0], 1)  # 偏度\n",
    "    x_kur = stats.kurtosis(a, axis=1).reshape(a.shape[0], 1)  # 峰度\n",
    "    feature = torch.from_numpy(np.array([x_avg, x_std, x_var,\n",
    "                                         x_ptp, x_rms, x_skw, x_kur]).squeeze().T)\n",
    "    return feature\n",
    "\n",
    "\n",
    "def fastft(a):\n",
    "    \"\"\"\n",
    "    根据傅里叶变换处理特征值\n",
    "    :param a: numpy.ndarray\n",
    "    :return: (torch.tensor, torch.tensor)\n",
    "    \"\"\"\n",
    "    x = np.array([fft(a[i, :]) for i in range(a.shape[0])])\n",
    "    y = np.array([np.abs(x[i, :]) for i in range(a.shape[0])])\n",
    "    y = torch.from_numpy(y / (y.max() - y.min()))\n",
    "    z = torch.from_numpy(np.array([np.angle(x[i, :]) for i in range(a.shape[0])]))\n",
    "\n",
    "    return y, z"
   ]
  },
  {
   "cell_type": "code",
   "execution_count": 4,
   "metadata": {},
   "outputs": [
    {
     "name": "stdout",
     "output_type": "stream",
     "text": [
      "Sequential(\n",
      "  (0): Conv1d(1, 64, kernel_size=(3,), stride=(2,), padding=(1,))\n",
      "  (1): BatchNorm1d(64, eps=1e-05, momentum=0.1, affine=True, track_running_stats=True)\n",
      "  (2): ReLU()\n",
      "  (3): Conv1d(64, 32, kernel_size=(4,), stride=(2,), padding=(1,))\n",
      "  (4): BatchNorm1d(32, eps=1e-05, momentum=0.1, affine=True, track_running_stats=True)\n",
      "  (5): ReLU()\n",
      "  (6): MaxPool1d(kernel_size=3, stride=2, padding=0, dilation=1, ceil_mode=False)\n",
      "  (7): Conv1d(32, 16, kernel_size=(4,), stride=(3,), padding=(2,))\n",
      "  (8): BatchNorm1d(16, eps=1e-05, momentum=0.1, affine=True, track_running_stats=True)\n",
      "  (9): ReLU()\n",
      "  (10): Conv1d(16, 16, kernel_size=(4,), stride=(2,), padding=(2,))\n",
      "  (11): BatchNorm1d(16, eps=1e-05, momentum=0.1, affine=True, track_running_stats=True)\n",
      "  (12): ReLU()\n",
      "  (13): MaxPool1d(kernel_size=2, stride=2, padding=0, dilation=1, ceil_mode=False)\n",
      "  (14): Conv1d(16, 16, kernel_size=(4,), stride=(2,), padding=(2,))\n",
      "  (15): BatchNorm1d(16, eps=1e-05, momentum=0.1, affine=True, track_running_stats=True)\n",
      "  (16): ReLU()\n",
      "  (17): Linear(in_features=32, out_features=1, bias=True)\n",
      ")\n"
     ]
    }
   ],
   "source": [
    "# 搭建1D-CNN网络\n",
    "net = nn.Sequential(\n",
    "    nn.Conv1d(1, 64, 3, 2, 1),\n",
    "    nn.BatchNorm1d(64),\n",
    "    nn.ReLU(),\n",
    "\n",
    "    nn.Conv1d(64, 32, 3, 2, 1),\n",
    "    nn.BatchNorm1d(32),\n",
    "    nn.ReLU(),\n",
    "    nn.MaxPool1d(3, 2),\n",
    "\n",
    "    nn.Conv1d(32, 16, 4, 3, 2),\n",
    "    nn.BatchNorm1d(16),\n",
    "    nn.ReLU(),\n",
    "\n",
    "    nn.Conv1d(16, 16, 4, 2, 2),\n",
    "    nn.BatchNorm1d(16),\n",
    "    nn.ReLU(),\n",
    "    nn.MaxPool1d(2, 2),\n",
    "\n",
    "    nn.Conv1d(16, 16, 4, 2, 2),\n",
    "    nn.BatchNorm1d(16),\n",
    "    nn.ReLU(),\n",
    "\n",
    "    nn.Linear(32, 1),\n",
    ")\n",
    "\n",
    "print(net)"
   ]
  },
  {
   "cell_type": "code",
   "execution_count": 7,
   "metadata": {},
   "outputs": [
    {
     "ename": "ExecutableNotFound",
     "evalue": "failed to execute ['dot', '-Tpdf', '-O', 'Digraph.gv'], make sure the Graphviz executables are on your systems' PATH",
     "output_type": "error",
     "traceback": [
      "\u001b[1;31m---------------------------------------------------------------------------\u001b[0m",
      "\u001b[1;31mFileNotFoundError\u001b[0m                         Traceback (most recent call last)",
      "\u001b[1;32mc:\\users\\ephemera\\anaconda3\\envs\\mega\\lib\\site-packages\\graphviz\\backend.py\u001b[0m in \u001b[0;36mrun\u001b[1;34m(cmd, input, capture_output, check, encoding, quiet, **kwargs)\u001b[0m\n\u001b[0;32m    163\u001b[0m     \u001b[1;32mtry\u001b[0m\u001b[1;33m:\u001b[0m\u001b[1;33m\u001b[0m\u001b[1;33m\u001b[0m\u001b[0m\n\u001b[1;32m--> 164\u001b[1;33m         \u001b[0mproc\u001b[0m \u001b[1;33m=\u001b[0m \u001b[0msubprocess\u001b[0m\u001b[1;33m.\u001b[0m\u001b[0mPopen\u001b[0m\u001b[1;33m(\u001b[0m\u001b[0mcmd\u001b[0m\u001b[1;33m,\u001b[0m \u001b[0mstartupinfo\u001b[0m\u001b[1;33m=\u001b[0m\u001b[0mget_startupinfo\u001b[0m\u001b[1;33m(\u001b[0m\u001b[1;33m)\u001b[0m\u001b[1;33m,\u001b[0m \u001b[1;33m**\u001b[0m\u001b[0mkwargs\u001b[0m\u001b[1;33m)\u001b[0m\u001b[1;33m\u001b[0m\u001b[1;33m\u001b[0m\u001b[0m\n\u001b[0m\u001b[0;32m    165\u001b[0m     \u001b[1;32mexcept\u001b[0m \u001b[0mOSError\u001b[0m \u001b[1;32mas\u001b[0m \u001b[0me\u001b[0m\u001b[1;33m:\u001b[0m\u001b[1;33m\u001b[0m\u001b[1;33m\u001b[0m\u001b[0m\n",
      "\u001b[1;32mc:\\users\\ephemera\\anaconda3\\envs\\mega\\lib\\subprocess.py\u001b[0m in \u001b[0;36m__init__\u001b[1;34m(self, args, bufsize, executable, stdin, stdout, stderr, preexec_fn, close_fds, shell, cwd, env, universal_newlines, startupinfo, creationflags, restore_signals, start_new_session, pass_fds, encoding, errors, text)\u001b[0m\n\u001b[0;32m    799\u001b[0m                                 \u001b[0merrread\u001b[0m\u001b[1;33m,\u001b[0m \u001b[0merrwrite\u001b[0m\u001b[1;33m,\u001b[0m\u001b[1;33m\u001b[0m\u001b[1;33m\u001b[0m\u001b[0m\n\u001b[1;32m--> 800\u001b[1;33m                                 restore_signals, start_new_session)\n\u001b[0m\u001b[0;32m    801\u001b[0m         \u001b[1;32mexcept\u001b[0m\u001b[1;33m:\u001b[0m\u001b[1;33m\u001b[0m\u001b[1;33m\u001b[0m\u001b[0m\n",
      "\u001b[1;32mc:\\users\\ephemera\\anaconda3\\envs\\mega\\lib\\subprocess.py\u001b[0m in \u001b[0;36m_execute_child\u001b[1;34m(self, args, executable, preexec_fn, close_fds, pass_fds, cwd, env, startupinfo, creationflags, shell, p2cread, p2cwrite, c2pread, c2pwrite, errread, errwrite, unused_restore_signals, unused_start_new_session)\u001b[0m\n\u001b[0;32m   1206\u001b[0m                                          \u001b[0mos\u001b[0m\u001b[1;33m.\u001b[0m\u001b[0mfspath\u001b[0m\u001b[1;33m(\u001b[0m\u001b[0mcwd\u001b[0m\u001b[1;33m)\u001b[0m \u001b[1;32mif\u001b[0m \u001b[0mcwd\u001b[0m \u001b[1;32mis\u001b[0m \u001b[1;32mnot\u001b[0m \u001b[1;32mNone\u001b[0m \u001b[1;32melse\u001b[0m \u001b[1;32mNone\u001b[0m\u001b[1;33m,\u001b[0m\u001b[1;33m\u001b[0m\u001b[1;33m\u001b[0m\u001b[0m\n\u001b[1;32m-> 1207\u001b[1;33m                                          startupinfo)\n\u001b[0m\u001b[0;32m   1208\u001b[0m             \u001b[1;32mfinally\u001b[0m\u001b[1;33m:\u001b[0m\u001b[1;33m\u001b[0m\u001b[1;33m\u001b[0m\u001b[0m\n",
      "\u001b[1;31mFileNotFoundError\u001b[0m: [WinError 2] 系统找不到指定的文件。",
      "\nDuring handling of the above exception, another exception occurred:\n",
      "\u001b[1;31mExecutableNotFound\u001b[0m                        Traceback (most recent call last)",
      "\u001b[1;32m<ipython-input-7-a44aedc0df0f>\u001b[0m in \u001b[0;36m<module>\u001b[1;34m\u001b[0m\n\u001b[0;32m      5\u001b[0m \u001b[0my\u001b[0m\u001b[1;33m=\u001b[0m\u001b[0mmodel\u001b[0m\u001b[1;33m(\u001b[0m\u001b[0mx\u001b[0m\u001b[1;33m)\u001b[0m\u001b[1;33m\u001b[0m\u001b[1;33m\u001b[0m\u001b[0m\n\u001b[0;32m      6\u001b[0m \u001b[0mg\u001b[0m \u001b[1;33m=\u001b[0m \u001b[0mmake_dot\u001b[0m\u001b[1;33m(\u001b[0m\u001b[0my\u001b[0m\u001b[1;33m)\u001b[0m\u001b[1;33m\u001b[0m\u001b[1;33m\u001b[0m\u001b[0m\n\u001b[1;32m----> 7\u001b[1;33m \u001b[0mg\u001b[0m\u001b[1;33m.\u001b[0m\u001b[0mview\u001b[0m\u001b[1;33m(\u001b[0m\u001b[1;33m)\u001b[0m\u001b[1;33m\u001b[0m\u001b[1;33m\u001b[0m\u001b[0m\n\u001b[0m",
      "\u001b[1;32mc:\\users\\ephemera\\anaconda3\\envs\\mega\\lib\\site-packages\\graphviz\\files.py\u001b[0m in \u001b[0;36mview\u001b[1;34m(self, filename, directory, cleanup, quiet, quiet_view)\u001b[0m\n\u001b[0;32m    240\u001b[0m         return self.render(filename=filename, directory=directory,\n\u001b[0;32m    241\u001b[0m                            \u001b[0mview\u001b[0m\u001b[1;33m=\u001b[0m\u001b[1;32mTrue\u001b[0m\u001b[1;33m,\u001b[0m \u001b[0mcleanup\u001b[0m\u001b[1;33m=\u001b[0m\u001b[0mcleanup\u001b[0m\u001b[1;33m,\u001b[0m\u001b[1;33m\u001b[0m\u001b[1;33m\u001b[0m\u001b[0m\n\u001b[1;32m--> 242\u001b[1;33m                            quiet=quiet, quiet_view=quiet_view)\n\u001b[0m\u001b[0;32m    243\u001b[0m \u001b[1;33m\u001b[0m\u001b[0m\n\u001b[0;32m    244\u001b[0m     \u001b[1;32mdef\u001b[0m \u001b[0m_view\u001b[0m\u001b[1;33m(\u001b[0m\u001b[0mself\u001b[0m\u001b[1;33m,\u001b[0m \u001b[0mfilepath\u001b[0m\u001b[1;33m,\u001b[0m \u001b[0mformat\u001b[0m\u001b[1;33m,\u001b[0m \u001b[0mquiet\u001b[0m\u001b[1;33m)\u001b[0m\u001b[1;33m:\u001b[0m\u001b[1;33m\u001b[0m\u001b[1;33m\u001b[0m\u001b[0m\n",
      "\u001b[1;32mc:\\users\\ephemera\\anaconda3\\envs\\mega\\lib\\site-packages\\graphviz\\files.py\u001b[0m in \u001b[0;36mrender\u001b[1;34m(self, filename, directory, view, cleanup, format, renderer, formatter, quiet, quiet_view)\u001b[0m\n\u001b[0;32m    207\u001b[0m         rendered = backend.render(self._engine, format, filepath,\n\u001b[0;32m    208\u001b[0m                                   \u001b[0mrenderer\u001b[0m\u001b[1;33m=\u001b[0m\u001b[0mrenderer\u001b[0m\u001b[1;33m,\u001b[0m \u001b[0mformatter\u001b[0m\u001b[1;33m=\u001b[0m\u001b[0mformatter\u001b[0m\u001b[1;33m,\u001b[0m\u001b[1;33m\u001b[0m\u001b[1;33m\u001b[0m\u001b[0m\n\u001b[1;32m--> 209\u001b[1;33m                                   quiet=quiet)\n\u001b[0m\u001b[0;32m    210\u001b[0m \u001b[1;33m\u001b[0m\u001b[0m\n\u001b[0;32m    211\u001b[0m         \u001b[1;32mif\u001b[0m \u001b[0mcleanup\u001b[0m\u001b[1;33m:\u001b[0m\u001b[1;33m\u001b[0m\u001b[1;33m\u001b[0m\u001b[0m\n",
      "\u001b[1;32mc:\\users\\ephemera\\anaconda3\\envs\\mega\\lib\\site-packages\\graphviz\\backend.py\u001b[0m in \u001b[0;36mrender\u001b[1;34m(***failed resolving arguments***)\u001b[0m\n\u001b[0;32m    219\u001b[0m         \u001b[0mcwd\u001b[0m \u001b[1;33m=\u001b[0m \u001b[1;32mNone\u001b[0m\u001b[1;33m\u001b[0m\u001b[1;33m\u001b[0m\u001b[0m\n\u001b[0;32m    220\u001b[0m \u001b[1;33m\u001b[0m\u001b[0m\n\u001b[1;32m--> 221\u001b[1;33m     \u001b[0mrun\u001b[0m\u001b[1;33m(\u001b[0m\u001b[0mcmd\u001b[0m\u001b[1;33m,\u001b[0m \u001b[0mcapture_output\u001b[0m\u001b[1;33m=\u001b[0m\u001b[1;32mTrue\u001b[0m\u001b[1;33m,\u001b[0m \u001b[0mcwd\u001b[0m\u001b[1;33m=\u001b[0m\u001b[0mcwd\u001b[0m\u001b[1;33m,\u001b[0m \u001b[0mcheck\u001b[0m\u001b[1;33m=\u001b[0m\u001b[1;32mTrue\u001b[0m\u001b[1;33m,\u001b[0m \u001b[0mquiet\u001b[0m\u001b[1;33m=\u001b[0m\u001b[0mquiet\u001b[0m\u001b[1;33m)\u001b[0m\u001b[1;33m\u001b[0m\u001b[1;33m\u001b[0m\u001b[0m\n\u001b[0m\u001b[0;32m    222\u001b[0m     \u001b[1;32mreturn\u001b[0m \u001b[0mrendered\u001b[0m\u001b[1;33m\u001b[0m\u001b[1;33m\u001b[0m\u001b[0m\n\u001b[0;32m    223\u001b[0m \u001b[1;33m\u001b[0m\u001b[0m\n",
      "\u001b[1;32mc:\\users\\ephemera\\anaconda3\\envs\\mega\\lib\\site-packages\\graphviz\\backend.py\u001b[0m in \u001b[0;36mrun\u001b[1;34m(cmd, input, capture_output, check, encoding, quiet, **kwargs)\u001b[0m\n\u001b[0;32m    165\u001b[0m     \u001b[1;32mexcept\u001b[0m \u001b[0mOSError\u001b[0m \u001b[1;32mas\u001b[0m \u001b[0me\u001b[0m\u001b[1;33m:\u001b[0m\u001b[1;33m\u001b[0m\u001b[1;33m\u001b[0m\u001b[0m\n\u001b[0;32m    166\u001b[0m         \u001b[1;32mif\u001b[0m \u001b[0me\u001b[0m\u001b[1;33m.\u001b[0m\u001b[0merrno\u001b[0m \u001b[1;33m==\u001b[0m \u001b[0merrno\u001b[0m\u001b[1;33m.\u001b[0m\u001b[0mENOENT\u001b[0m\u001b[1;33m:\u001b[0m\u001b[1;33m\u001b[0m\u001b[1;33m\u001b[0m\u001b[0m\n\u001b[1;32m--> 167\u001b[1;33m             \u001b[1;32mraise\u001b[0m \u001b[0mExecutableNotFound\u001b[0m\u001b[1;33m(\u001b[0m\u001b[0mcmd\u001b[0m\u001b[1;33m)\u001b[0m\u001b[1;33m\u001b[0m\u001b[1;33m\u001b[0m\u001b[0m\n\u001b[0m\u001b[0;32m    168\u001b[0m         \u001b[1;32melse\u001b[0m\u001b[1;33m:\u001b[0m\u001b[1;33m\u001b[0m\u001b[1;33m\u001b[0m\u001b[0m\n\u001b[0;32m    169\u001b[0m             \u001b[1;32mraise\u001b[0m\u001b[1;33m\u001b[0m\u001b[1;33m\u001b[0m\u001b[0m\n",
      "\u001b[1;31mExecutableNotFound\u001b[0m: failed to execute ['dot', '-Tpdf', '-O', 'Digraph.gv'], make sure the Graphviz executables are on your systems' PATH"
     ]
    }
   ],
   "source": [
    "from torchviz import make_dot\n",
    "from torchvision.models import AlexNet\n",
    "\n",
    "import os\n",
    "os.environ[\"PATH\"] += os.pathsep + 'C:\\Users\\ephemera\\anaconda3\\envs\\mega\\Lib\\site-packages\\graphviz\\'\n",
    "\n",
    "x=torch.rand(8,3,256,512)\n",
    "model=AlexNet()\n",
    "y=model(x)\n",
    "g = make_dot(y)\n",
    "g.view()"
   ]
  },
  {
   "cell_type": "code",
   "execution_count": 4,
   "metadata": {},
   "outputs": [],
   "source": [
    "# 初始化网络参数\n",
    "batch_size = 64\n",
    "learning_rate = 0.02\n",
    "num_epoches =10\n",
    "# 初始化训练参数\n",
    "optimizer = torch.optim.SGD(net.parameters(), lr=learning_rate)  # 构建随机梯度下降优化器, lr为学习率\n",
    "loss_func = torch.nn.CrossEntropyLoss()  # 构建交叉熵损失函数\n",
    "losses = []\n",
    "acces = []\n",
    "eval_losses = []  # 测试集损失和准确率\n",
    "eval_acces = []"
   ]
  },
  {
   "cell_type": "code",
   "execution_count": 5,
   "metadata": {},
   "outputs": [
    {
     "name": "stdout",
     "output_type": "stream",
     "text": [
      "torch.Size([792, 6000])\n"
     ]
    }
   ],
   "source": [
    "# 读入训练集并整理\n",
    "train_set = np.loadtxt(\"train_remastered.csv\", delimiter=\",\", dtype=(\"float32\"), skiprows=1)\n",
    "label = torch.from_numpy(train_set[:, [-1]]).long()\n",
    "tseq = np.array(train_set[:, 1:-1])\n",
    "# 计算数据特征\n",
    "feature, _ = fastft(tseq)\n",
    "print(feature.size())\n",
    "deal_set = TensorDataset(feature, label)\n",
    "train_data = DataLoader(dataset=deal_set, batch_size=batch_size, shuffle=True, num_workers=0)"
   ]
  },
  {
   "cell_type": "code",
   "execution_count": 6,
   "metadata": {},
   "outputs": [
    {
     "name": "stdout",
     "output_type": "stream",
     "text": [
      "epoch 0 finished: loss=2.569883,  acc=0.300881\n",
      "epoch 1 finished: loss=1.812905,  acc=0.649439\n",
      "epoch 2 finished: loss=1.101252,  acc=0.761218\n",
      "epoch 3 finished: loss=0.763276,  acc=0.805288\n",
      "epoch 4 finished: loss=0.568506,  acc=0.869391\n",
      "epoch 5 finished: loss=0.393743,  acc=0.947115\n",
      "epoch 6 finished: loss=0.252742,  acc=0.985577\n",
      "epoch 7 finished: loss=0.145560,  acc=0.995593\n",
      "epoch 8 finished: loss=0.097512,  acc=0.997596\n",
      "epoch 9 finished: loss=0.058969,  acc=0.997596\n",
      "epoch 10 finished: loss=0.042319,  acc=1.000000\n",
      "epoch 11 finished: loss=0.035725,  acc=1.000000\n",
      "epoch 12 finished: loss=0.026866,  acc=1.000000\n",
      "epoch 13 finished: loss=0.023563,  acc=1.000000\n",
      "epoch 14 finished: loss=0.020331,  acc=1.000000\n",
      "epoch 15 finished: loss=0.017109,  acc=1.000000\n",
      "epoch 16 finished: loss=0.017060,  acc=1.000000\n",
      "epoch 17 finished: loss=0.014369,  acc=1.000000\n",
      "epoch 18 finished: loss=0.013075,  acc=1.000000\n",
      "epoch 19 finished: loss=0.010750,  acc=1.000000\n"
     ]
    }
   ],
   "source": [
    "# 循环执行epoch\n",
    "for e in range(num_epoches):\n",
    "    train_loss = 0\n",
    "    train_acc = 0\n",
    "    net.train()  # 网络开始训练\n",
    "    for im, label in train_data:\n",
    "        im = Variable(torch.unsqueeze(im, dim=1).float())\n",
    "        label = Variable(label)\n",
    "        # 前向传播\n",
    "        out = net(im)\n",
    "        loss = loss_func(out, label)\n",
    "        # 反向传播\n",
    "        optimizer.zero_grad()\n",
    "        loss.backward()\n",
    "        optimizer.step()\n",
    "        # 记录误差\n",
    "        train_loss += loss.item()\n",
    "        # 计算分类的准确率\n",
    "        _, pred = out.max(1)  # 挑选出输出时值最大的位置\n",
    "        num_correct = (pred == label).sum().item()  # 记录正确的个数\n",
    "        acc = num_correct / im.shape[0]  # 计算精确率\n",
    "        train_acc += acc\n",
    "\n",
    "    print(\"epoch %d finished: loss=%6f,  acc=%6f\"\n",
    "          % (e, train_loss / len(train_data), train_acc / len(train_data)))\n",
    "    losses.append(train_loss / len(train_data))\n",
    "    acces.append(train_acc / len(train_data))"
   ]
  },
  {
   "cell_type": "code",
   "execution_count": 7,
   "metadata": {},
   "outputs": [
    {
     "data": {
      "text/plain": [
       "[<matplotlib.lines.Line2D at 0x15553e47788>]"
      ]
     },
     "execution_count": 7,
     "metadata": {},
     "output_type": "execute_result"
    },
    {
     "data": {
      "image/png": "[encoded data removed]",
      "text/plain": [
       "<Figure size 432x288 with 2 Axes>"
      ]
     },
     "metadata": {
      "needs_background": "light"
     },
     "output_type": "display_data"
    }
   ],
   "source": [
    "# 绘制测试曲线\n",
    "fig = plt.figure()\n",
    "ax = fig.add_subplot(121)\n",
    "bx = fig.add_subplot(122)\n",
    "ax.set_title('train loss')\n",
    "ax.plot(np.arange(len(losses)), losses)\n",
    "bx.set_title('train acc')\n",
    "bx.plot(np.arange(len(acces)), acces)\n"
   ]
  },
  {
   "cell_type": "code",
   "execution_count": 11,
   "metadata": {},
   "outputs": [],
   "source": [
    "# 读入测试集\n",
    "test_set = np.loadtxt(\"test_remastered.csv\", delimiter=\",\", dtype=(\"float32\"), skiprows=1)\n",
    "tseq = np.array(test_set[:, 1:])\n",
    "feature, _ = fastft(tseq)\n",
    "deal_set = TensorDataset(feature)\n",
    "test_data = DataLoader(dataset=deal_set, batch_size=64, shuffle=False, num_workers=0)"
   ]
  },
  {
   "cell_type": "code",
   "execution_count": 53,
   "metadata": {},
   "outputs": [
    {
     "name": "stdout",
     "output_type": "stream",
     "text": [
      "torch.Size([528, 1, 1])\n",
      "(528,)\n",
      "[9, 7, 9, 0, 1, 7, 4, 7, 0, 3, 9, 0, 7, 0, 0, 7, 8, 9, 3, 0, 7, 2, 7, 5, 8, 9, 4, 0, 1, 8, 3, 7, 1, 0, 9, 0, 1, 4, 6, 9, 9, 3, 0, 7, 9, 8, 5, 9, 7, 8, 1, 7, 0, 7, 0, 2, 9, 9, 2, 5, 5, 7, 3, 6, 8, 6, 6, 9, 1, 5, 9, 1, 0, 3, 7, 9, 8, 0, 0, 8, 7, 2, 0, 0, 1, 1, 7, 4, 9, 0, 7, 0, 6, 7, 5, 8, 0, 7, 9, 0, 0, 9, 6, 3, 9, 3, 5, 0, 2, 7, 8, 7, 0, 9, 4, 9, 9, 1, 0, 9, 9, 2, 7, 7, 7, 8, 2, 6, 0, 4, 2, 3, 9, 7, 3, 8, 0, 0, 3, 0, 7, 5, 4, 9, 5, 0, 9, 7, 2, 4, 2, 9, 7, 0, 7, 2, 7, 0, 4, 2, 1, 0, 0, 3, 0, 7, 7, 6, 5, 1, 9, 0, 1, 4, 0, 7, 3, 9, 4, 8, 7, 9, 1, 2, 7, 9, 8, 0, 9, 9, 4, 7, 0, 7, 7, 5, 0, 7, 9, 1, 9, 0, 7, 6, 7, 7, 5, 0, 7, 8, 9, 4, 0, 9, 0, 9, 4, 1, 0, 9, 9, 4, 0, 7, 8, 9, 6, 9, 1, 3, 7, 3, 9, 0, 1, 3, 0, 7, 7, 0, 0, 1, 5, 8, 8, 9, 0, 2, 9, 2, 0, 6, 0, 9, 7, 6, 7, 0, 7, 7, 4, 0, 7, 0, 3, 9, 3, 9, 1, 2, 9, 7, 7, 6, 0, 9, 2, 5, 2, 7, 0, 5, 9, 7, 9, 9, 9, 3, 9, 7, 0, 2, 6, 4, 0, 0, 9, 9, 7, 7, 7, 4, 1, 3, 0, 8, 0, 7, 7, 8, 0, 7, 2, 7, 5, 9, 8, 7, 6, 4, 2, 8, 0, 6, 7, 9, 6, 6, 9, 0, 0, 8, 0, 7, 7, 0, 0, 0, 9, 0, 0, 9, 2, 7, 9, 3, 1, 4, 1, 7, 5, 0, 6, 2, 3, 9, 5, 6, 2, 1, 3, 9, 7, 7, 9, 7, 7, 7, 5, 9, 2, 9, 7, 9, 2, 0, 5, 2, 6, 3, 0, 9, 4, 7, 5, 3, 5, 8, 9, 6, 0, 8, 5, 7, 0, 1, 4, 5, 8, 9, 9, 8, 3, 5, 7, 0, 0, 3, 9, 8, 0, 9, 6, 0, 1, 0, 7, 4, 8, 0, 9, 0, 0, 1, 0, 5, 9, 7, 3, 8, 0, 9, 7, 1, 3, 9, 9, 7, 6, 9, 9, 7, 9, 7, 5, 0, 7, 6, 8, 9, 5, 0, 0, 8, 7, 0, 1, 8, 9, 2, 8, 0, 0, 1, 0, 9, 4, 4, 6, 7, 0, 1, 4, 4, 0, 5, 9, 3, 7, 9, 9, 7, 9, 9, 0, 5, 2, 7, 7, 7, 0, 5, 2, 7, 9, 7, 5, 5, 2, 7, 9, 2, 9, 8, 7, 1, 0, 8, 7, 4, 9, 6, 9, 2, 0, 3, 9, 1, 4, 0, 7, 1, 9, 9, 3, 6, 2, 0]\n"
     ]
    }
   ],
   "source": [
    "net.eval()  # 将模型改为预测模式\n",
    "res = []\n",
    "for im in test_data:\n",
    "    im = Variable(torch.unsqueeze(im[0], dim=1))\n",
    "    out = net(im)\n",
    "    _, pred = out.max(1)\n",
    "    pred.unsqueeze_(1)\n",
    "    res.append(pred)\n",
    "res = torch.cat(res, dim=0)\n",
    "print(res.size())\n",
    "res = res.numpy().squeeze()\n",
    "print(res.shape)\n",
    "print(res)"
   ]
  },
  {
   "cell_type": "code",
   "execution_count": 63,
   "metadata": {},
   "outputs": [
    {
     "name": "stdout",
     "output_type": "stream",
     "text": [
      "[[  1   9]\n",
      " [  2   7]\n",
      " [  3   9]\n",
      " ...\n",
      " [526   6]\n",
      " [527   2]\n",
      " [528   0]]\n"
     ]
    }
   ],
   "source": [
    "import csv\n",
    "headers = ['id','label']\n",
    "rows = np.arange(1,529)\n",
    "rows = np.vstack((rows,res)).transpose(1,0)\n",
    "print(rows)\n",
    "with open('pred.csv','w', newline='') as f:\n",
    "    f_csv = csv.writer(f)\n",
    "    f_csv.writerow(headers)\n",
    "    f_csv.writerows(rows)"
   ]
  },
  {
   "cell_type": "code",
   "execution_count": null,
   "metadata": {},
   "outputs": [],
   "source": []
  }
 ],
 "metadata": {
  "kernelspec": {
   "display_name": "Python 3",
   "language": "python",
   "name": "python3"
  },
  "language_info": {
   "codemirror_mode": {
    "name": "ipython",
    "version": 3
   },
   "file_extension": ".py",
   "mimetype": "text/x-python",
   "name": "python",
   "nbconvert_exporter": "python",
   "pygments_lexer": "ipython3",
   "version": "3.7.6"
  }
 },
 "nbformat": 4,
 "nbformat_minor": 4
}
