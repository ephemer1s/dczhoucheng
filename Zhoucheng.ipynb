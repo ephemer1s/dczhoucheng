{
 "cells": [
  {
   "cell_type": "code",
   "execution_count": 1,
   "metadata": {},
   "outputs": [],
   "source": [
    "import numpy as np\n",
    "import torch\n",
    "from torch import nn\n",
    "from torch.autograd import Variable\n",
    "from torch.utils.data import DataLoader, TensorDataset\n",
    "from scipy import stats\n",
    "import matplotlib.pyplot as plt"
   ]
  },
  {
   "cell_type": "code",
   "execution_count": 2,
   "metadata": {},
   "outputs": [
    {
     "name": "stdout",
     "output_type": "stream",
     "text": [
      "Sequential(\n",
      "  (0): Linear(in_features=7, out_features=50, bias=True)\n",
      "  (1): ReLU()\n",
      "  (2): Linear(in_features=50, out_features=200, bias=True)\n",
      "  (3): ReLU()\n",
      "  (4): Linear(in_features=200, out_features=50, bias=True)\n",
      "  (5): ReLU()\n",
      "  (6): Linear(in_features=50, out_features=10, bias=True)\n",
      ")\n"
     ]
    }
   ],
   "source": [
    "# 搭建BP网络\n",
    "net = nn.Sequential(\n",
    "    nn.Linear(7, 50),\n",
    "    nn.ReLU(),\n",
    "    nn.Linear(50, 200),\n",
    "    nn.ReLU(),\n",
    "    nn.Linear(200, 50),\n",
    "    nn.ReLU(),\n",
    "    nn.Linear(50, 10)\n",
    ")\n",
    "print(net)\n",
    "\n",
    "# 初始化网络参数\n",
    "optimizer = torch.optim.SGD(net.parameters(), lr=0.03)  # 构建随机梯度下降优化器, lr为学习率\n",
    "loss_func = torch.nn.CrossEntropyLoss()  # 构建交叉熵损失函数\n",
    "losses = []\n",
    "acces = []\n",
    "eval_losses = []  # 测试集损失和准确率\n",
    "eval_acces = []"
   ]
  },
  {
   "cell_type": "code",
   "execution_count": 3,
   "metadata": {},
   "outputs": [
    {
     "name": "stdout",
     "output_type": "stream",
     "text": [
      "torch.Size([792, 7])\n"
     ]
    }
   ],
   "source": [
    "# 读入训练集并整理\n",
    "train_set = np.loadtxt(\"train_remastered.csv\", delimiter=\",\", dtype=(\"float32\"), skiprows=1)\n",
    "label = torch.from_numpy(train_set[:, [-1]]).long()\n",
    "tseq = np.array(train_set[:, 1:-1])\n",
    "\n",
    "# 计算数据特征\n",
    "x_avg = np.mean(tseq, axis=1, keepdims=True)  # 算术均值\n",
    "x_std = np.std(tseq, axis=1, ddof=1, keepdims=True)  # 标准差\n",
    "x_var = np.var(tseq, axis=1, ddof=1, keepdims=True)  # 方差\n",
    "x_ptp = np.ptp(tseq, axis=1, keepdims=True)  # 峰峰值\n",
    "x_rms = np.sqrt(np.mean(tseq ** 2, axis=1, keepdims=True))  # 有效值\n",
    "x_skw = stats.skew(tseq, axis=1).reshape(tseq.shape[0], 1)  # 偏度\n",
    "x_kur = stats.kurtosis(tseq, axis=1).reshape(tseq.shape[0], 1)  # 峰度\n",
    "feature = torch.from_numpy(np.array([x_avg, x_std, x_var,\n",
    "                                     x_ptp, x_rms, x_skw, x_kur]).squeeze().T)\n",
    "print(feature.size())"
   ]
  },
  {
   "cell_type": "code",
   "execution_count": 4,
   "metadata": {},
   "outputs": [],
   "source": [
    "deal_set = TensorDataset(feature, label)\n",
    "train_data = DataLoader(dataset=deal_set, batch_size=64, shuffle=True, num_workers=0)\n"
   ]
  },
  {
   "cell_type": "code",
   "execution_count": 5,
   "metadata": {},
   "outputs": [
    {
     "name": "stdout",
     "output_type": "stream",
     "text": [
      "epoch 0 finished: loss=2.129864,  acc=11.554087\n",
      "epoch 1 finished: loss=1.939044,  acc=11.961538\n",
      "epoch 2 finished: loss=1.872122,  acc=11.595353\n",
      "epoch 3 finished: loss=1.796441,  acc=12.277244\n",
      "epoch 4 finished: loss=1.729851,  acc=12.219151\n",
      "epoch 5 finished: loss=1.664354,  acc=12.158654\n",
      "epoch 6 finished: loss=1.621545,  acc=12.040865\n",
      "epoch 7 finished: loss=1.564707,  acc=12.187500\n",
      "epoch 8 finished: loss=1.526001,  acc=11.868990\n",
      "epoch 9 finished: loss=1.492051,  acc=11.824119\n",
      "epoch 10 finished: loss=1.437938,  acc=12.031651\n",
      "epoch 11 finished: loss=1.414108,  acc=11.851763\n",
      "epoch 12 finished: loss=1.410055,  acc=11.804087\n",
      "epoch 13 finished: loss=1.326768,  acc=12.038061\n",
      "epoch 14 finished: loss=1.291106,  acc=11.974359\n",
      "epoch 15 finished: loss=1.275155,  acc=11.807692\n",
      "epoch 16 finished: loss=1.269828,  acc=11.986378\n",
      "epoch 17 finished: loss=1.266358,  acc=11.896234\n",
      "epoch 18 finished: loss=1.267452,  acc=11.659856\n",
      "epoch 19 finished: loss=1.216839,  acc=11.759615\n"
     ]
    },
    {
     "data": {
      "text/plain": [
       "[<matplotlib.lines.Line2D at 0x16cc558afc8>]"
      ]
     },
     "execution_count": 5,
     "metadata": {},
     "output_type": "execute_result"
    },
    {
     "data": {
      "image/png": "[encoded data removed]",
      "text/plain": [
       "<Figure size 432x288 with 2 Axes>"
      ]
     },
     "metadata": {
      "needs_background": "light"
     },
     "output_type": "display_data"
    }
   ],
   "source": [
    "# 循环执行epoch\n",
    "for e in range(20):\n",
    "    train_loss = 0\n",
    "    train_acc = 0\n",
    "    net.train()  # 网络开始训练\n",
    "    for im, label in train_data:\n",
    "        im = Variable(im)\n",
    "        label = Variable(label)\n",
    "        # 前向传播\n",
    "        out = net(im)\n",
    "        loss = loss_func(out, label.squeeze())\n",
    "        # 反向传播\n",
    "        optimizer.zero_grad()\n",
    "        loss.backward()\n",
    "        optimizer.step()\n",
    "        # 记录误差\n",
    "        train_loss += loss.item()\n",
    "        # 计算分类的准确率\n",
    "        _, pred = out.max(1)  # 挑选出输出时值最大的位置\n",
    "        num_correct = (pred == label).sum().item()  # 记录正确的个数\n",
    "        acc = num_correct / im.shape[0]  # 计算精确率\n",
    "        train_acc += acc\n",
    "\n",
    "    print(\"epoch %d finished: loss=%6f,  acc=%6f\"\n",
    "          % (e, train_loss / len(train_data), train_acc / len(train_data)))\n",
    "    losses.append(train_loss / len(train_data))\n",
    "    acces.append(train_acc / len(train_data))\n",
    "\n",
    "# 绘制测试曲线\n",
    "fig = plt.figure()\n",
    "ax = fig.add_subplot(121)\n",
    "bx = fig.add_subplot(122)\n",
    "ax.set_title('train loss')\n",
    "ax.plot(np.arange(len(losses)), losses)\n",
    "bx.set_title('train acc')\n",
    "bx.plot(np.arange(len(acces)), acces)\n",
    "# bx.plot(np.arange(len(eval_losses)), eval_losses)\n",
    "# plt.show()"
   ]
  },
  {
   "cell_type": "code",
   "execution_count": 6,
   "metadata": {},
   "outputs": [
    {
     "name": "stdout",
     "output_type": "stream",
     "text": [
      "torch.Size([528, 7])\n"
     ]
    }
   ],
   "source": [
    "# 读入测试集\n",
    "test_set = np.loadtxt(\"test_remastered.csv\", delimiter=\",\", dtype=(\"float32\"), skiprows=1)\n",
    "tseq = np.array(test_set[:, 1:])\n",
    "x_avg = np.mean(tseq, axis=1, keepdims=True)  # 算术均值\n",
    "x_std = np.std(tseq, axis=1, ddof=1, keepdims=True)  # 标准差\n",
    "x_var = np.var(tseq, axis=1, ddof=1, keepdims=True)  # 方差\n",
    "x_ptp = np.ptp(tseq, axis=1, keepdims=True)  # 峰峰值\n",
    "x_rms = np.sqrt(np.mean(tseq ** 2, axis=1, keepdims=True))  # 有效值\n",
    "x_skw = stats.skew(tseq, axis=1).reshape(tseq.shape[0], 1)  # 偏度\n",
    "x_kur = stats.kurtosis(tseq, axis=1).reshape(tseq.shape[0], 1)  # 峰度\n",
    "feature = torch.from_numpy(np.array([x_avg, x_std, x_var,\n",
    "                                     x_ptp, x_rms, x_skw, x_kur]).squeeze().T)\n",
    "print(feature.size())"
   ]
  },
  {
   "cell_type": "code",
   "execution_count": 7,
   "metadata": {},
   "outputs": [
    {
     "name": "stdout",
     "output_type": "stream",
     "text": [
      "<torch.utils.data.dataset.TensorDataset object at 0x0000016CC5495C48>\n"
     ]
    }
   ],
   "source": [
    "deal_set = TensorDataset(feature)\n",
    "print(deal_set)"
   ]
  },
  {
   "cell_type": "code",
   "execution_count": 8,
   "metadata": {},
   "outputs": [
    {
     "name": "stdout",
     "output_type": "stream",
     "text": [
      "<torch.utils.data.dataloader.DataLoader object at 0x0000016CC54AF188>\n"
     ]
    }
   ],
   "source": [
    "test_data = DataLoader(dataset=deal_set, batch_size=32, shuffle=False, num_workers=0)\n",
    "print(test_data)\n",
    "net.eval()  # 将模型改为预测模式\n",
    "res = []"
   ]
  },
  {
   "cell_type": "code",
   "execution_count": 9,
   "metadata": {},
   "outputs": [],
   "source": [
    "for im in test_data:\n",
    "    im = Variable(im[0])\n",
    "    out = net(im)\n",
    "    _,pred = out.max(1)\n",
    "    res.append(pred)"
   ]
  },
  {
   "cell_type": "code",
   "execution_count": 10,
   "metadata": {},
   "outputs": [
    {
     "name": "stdout",
     "output_type": "stream",
     "text": [
      "[tensor([9, 7, 9, 0, 0, 9, 7, 7, 0, 0, 7, 0, 7, 0, 0, 7, 0, 9, 9, 0, 9, 9, 7, 9,\n",
      "        0, 7, 7, 0, 0, 0, 0, 9]), tensor([0, 0, 9, 0, 0, 7, 7, 9, 9, 0, 0, 9, 9, 0, 9, 9, 7, 0, 0, 7, 0, 7, 0, 9,\n",
      "        7, 9, 9, 9, 9, 7, 9, 7]), tensor([0, 7, 7, 9, 0, 9, 9, 0, 0, 0, 9, 9, 0, 0, 0, 0, 9, 9, 0, 0, 0, 0, 9, 7,\n",
      "        9, 0, 7, 0, 9, 7, 9, 0]), tensor([0, 7, 9, 0, 0, 9, 7, 0, 9, 0, 9, 0, 9, 9, 0, 9, 0, 9, 7, 9, 9, 0, 0, 9,\n",
      "        9, 9, 7, 9, 9, 9, 9, 7]), tensor([0, 7, 9, 7, 9, 7, 0, 0, 0, 0, 0, 0, 7, 9, 7, 9, 9, 0, 9, 7, 9, 7, 9, 9,\n",
      "        9, 0, 9, 9, 9, 0, 7, 9]), tensor([0, 0, 0, 0, 0, 7, 7, 9, 9, 0, 9, 0, 0, 7, 0, 7, 0, 9, 7, 0, 9, 9, 0, 9,\n",
      "        9, 9, 0, 0, 7, 9, 7, 7]), tensor([0, 9, 7, 9, 0, 7, 9, 0, 9, 0, 9, 7, 7, 7, 9, 0, 7, 0, 9, 7, 0, 9, 0, 9,\n",
      "        7, 0, 0, 9, 9, 7, 0, 9]), tensor([0, 9, 9, 9, 0, 0, 9, 0, 9, 0, 0, 9, 0, 7, 9, 0, 0, 0, 9, 0, 0, 9, 0, 9,\n",
      "        7, 9, 0, 9, 0, 9, 9, 9]), tensor([7, 0, 7, 7, 7, 0, 9, 0, 0, 9, 0, 7, 0, 9, 9, 9, 9, 7, 0, 9, 9, 9, 9, 9,\n",
      "        0, 9, 9, 9, 9, 9, 9, 0]), tensor([9, 7, 0, 9, 9, 7, 0, 0, 9, 9, 9, 7, 9, 7, 0, 0, 0, 0, 0, 9, 7, 0, 0, 7,\n",
      "        9, 7, 9, 9, 0, 9, 9, 7]), tensor([9, 0, 0, 7, 7, 7, 7, 7, 9, 0, 0, 0, 0, 7, 7, 0, 0, 0, 9, 0, 0, 9, 9, 7,\n",
      "        7, 0, 0, 7, 0, 7, 9, 0]), tensor([9, 9, 9, 9, 9, 7, 9, 0, 9, 9, 9, 7, 9, 7, 7, 7, 9, 7, 9, 9, 7, 9, 9, 0,\n",
      "        9, 9, 7, 0, 0, 7, 7, 9]), tensor([9, 0, 9, 0, 9, 9, 0, 0, 9, 7, 0, 0, 7, 9, 0, 9, 9, 0, 0, 9, 7, 0, 0, 0,\n",
      "        9, 0, 0, 9, 7, 0, 0, 0]), tensor([7, 7, 0, 0, 9, 0, 0, 0, 0, 9, 9, 7, 0, 0, 0, 9, 9, 0, 0, 9, 9, 7, 7, 9,\n",
      "        7, 7, 9, 9, 9, 0, 7, 7]), tensor([0, 9, 9, 0, 0, 0, 9, 0, 0, 0, 9, 9, 0, 0, 0, 0, 0, 9, 7, 7, 7, 7, 0, 0,\n",
      "        7, 7, 0, 9, 9, 9, 7, 9]), tensor([9, 7, 9, 9, 0, 9, 9, 7, 7, 7, 0, 9, 9, 9, 9, 9, 9, 9, 9, 7, 9, 9, 9, 0,\n",
      "        9, 0, 0, 0, 7, 7, 9, 7]), tensor([9, 9, 0, 0, 9, 0, 7, 0, 9, 0, 9, 9, 0, 7, 9, 0])]\n"
     ]
    }
   ],
   "source": [
    "print(res)"
   ]
  },
  {
   "cell_type": "code",
   "execution_count": null,
   "metadata": {},
   "outputs": [],
   "source": []
  }
 ],
 "metadata": {
  "kernelspec": {
   "display_name": "Python 3",
   "language": "python",
   "name": "python3"
  },
  "language_info": {
   "codemirror_mode": {
    "name": "ipython",
    "version": 3
   },
   "file_extension": ".py",
   "mimetype": "text/x-python",
   "name": "python",
   "nbconvert_exporter": "python",
   "pygments_lexer": "ipython3",
   "version": "3.7.6"
  }
 },
 "nbformat": 4,
 "nbformat_minor": 4
}
